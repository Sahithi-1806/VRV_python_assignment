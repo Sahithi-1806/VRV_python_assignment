{
  "nbformat": 4,
  "nbformat_minor": 0,
  "metadata": {
    "colab": {
      "provenance": []
    },
    "kernelspec": {
      "name": "python3",
      "display_name": "Python 3"
    },
    "language_info": {
      "name": "python"
    }
  },
  "cells": [
    {
      "cell_type": "code",
      "execution_count": 1,
      "metadata": {
        "id": "Kv-MVkgTa8fz"
      },
      "outputs": [],
      "source": [
        "import re\n",
        "import csv\n",
        "from collections import Counter\n",
        "import os"
      ]
    },
    {
      "cell_type": "markdown",
      "source": [
        " Check the files in the current directory"
      ],
      "metadata": {
        "id": "j-UBQAvHcDIA"
      }
    },
    {
      "cell_type": "code",
      "source": [
        "print(\"Files in current directory:\", os.listdir())"
      ],
      "metadata": {
        "colab": {
          "base_uri": "https://localhost:8080/"
        },
        "id": "lEBA_Q0Ea-ST",
        "outputId": "69f6a259-a6ea-4f09-de9d-847af49cca16"
      },
      "execution_count": 2,
      "outputs": [
        {
          "output_type": "stream",
          "name": "stdout",
          "text": [
            "Files in current directory: ['.config', 'sample.log', 'sample_data']\n"
          ]
        }
      ]
    },
    {
      "cell_type": "markdown",
      "source": [
        "Open and read the content of the uploaded log file"
      ],
      "metadata": {
        "id": "PAcsu13tcU-m"
      }
    },
    {
      "cell_type": "code",
      "source": [
        "with open('sample.log', 'r') as file:\n",
        "    log_lines = file.readlines()"
      ],
      "metadata": {
        "id": "_M3Aq3tibFER"
      },
      "execution_count": 3,
      "outputs": []
    },
    {
      "cell_type": "code",
      "source": [
        "log_lines"
      ],
      "metadata": {
        "colab": {
          "base_uri": "https://localhost:8080/"
        },
        "id": "3WoHrf33bICg",
        "outputId": "5fed33b1-4a88-4a3f-fef7-e25954354df9"
      },
      "execution_count": 5,
      "outputs": [
        {
          "output_type": "execute_result",
          "data": {
            "text/plain": [
              "['192.168.1.1 - - [03/Dec/2024:10:12:34 +0000] \"GET /home HTTP/1.1\" 200 512\\n',\n",
              " '203.0.113.5 - - [03/Dec/2024:10:12:35 +0000] \"POST /login HTTP/1.1\" 401 128 \"Invalid credentials\"\\n',\n",
              " '10.0.0.2 - - [03/Dec/2024:10:12:36 +0000] \"GET /about HTTP/1.1\" 200 256\\n',\n",
              " '192.168.1.1 - - [03/Dec/2024:10:12:37 +0000] \"GET /contact HTTP/1.1\" 200 312\\n',\n",
              " '198.51.100.23 - - [03/Dec/2024:10:12:38 +0000] \"POST /register HTTP/1.1\" 200 128\\n',\n",
              " '203.0.113.5 - - [03/Dec/2024:10:12:39 +0000] \"POST /login HTTP/1.1\" 401 128 \"Invalid credentials\"\\n',\n",
              " '192.168.1.100 - - [03/Dec/2024:10:12:40 +0000] \"POST /login HTTP/1.1\" 401 128 \"Invalid credentials\"\\n',\n",
              " '10.0.0.2 - - [03/Dec/2024:10:12:41 +0000] \"GET /dashboard HTTP/1.1\" 200 1024\\n',\n",
              " '198.51.100.23 - - [03/Dec/2024:10:12:42 +0000] \"GET /about HTTP/1.1\" 200 256\\n',\n",
              " '192.168.1.1 - - [03/Dec/2024:10:12:43 +0000] \"GET /dashboard HTTP/1.1\" 200 1024\\n',\n",
              " '203.0.113.5 - - [03/Dec/2024:10:12:44 +0000] \"POST /login HTTP/1.1\" 401 128 \"Invalid credentials\"\\n',\n",
              " '203.0.113.5 - - [03/Dec/2024:10:12:45 +0000] \"POST /login HTTP/1.1\" 401 128 \"Invalid credentials\"\\n',\n",
              " '192.168.1.100 - - [03/Dec/2024:10:12:46 +0000] \"POST /login HTTP/1.1\" 401 128 \"Invalid credentials\"\\n',\n",
              " '10.0.0.2 - - [03/Dec/2024:10:12:47 +0000] \"GET /profile HTTP/1.1\" 200 768\\n',\n",
              " '192.168.1.1 - - [03/Dec/2024:10:12:48 +0000] \"GET /home HTTP/1.1\" 200 512\\n',\n",
              " '198.51.100.23 - - [03/Dec/2024:10:12:49 +0000] \"POST /feedback HTTP/1.1\" 200 128\\n',\n",
              " '203.0.113.5 - - [03/Dec/2024:10:12:50 +0000] \"POST /login HTTP/1.1\" 401 128 \"Invalid credentials\"\\n',\n",
              " '192.168.1.1 - - [03/Dec/2024:10:12:51 +0000] \"GET /home HTTP/1.1\" 200 512\\n',\n",
              " '198.51.100.23 - - [03/Dec/2024:10:12:52 +0000] \"GET /about HTTP/1.1\" 200 256\\n',\n",
              " '203.0.113.5 - - [03/Dec/2024:10:12:53 +0000] \"POST /login HTTP/1.1\" 401 128 \"Invalid credentials\"\\n',\n",
              " '192.168.1.100 - - [03/Dec/2024:10:12:54 +0000] \"POST /login HTTP/1.1\" 401 128 \"Invalid credentials\"\\n',\n",
              " '10.0.0.2 - - [03/Dec/2024:10:12:55 +0000] \"GET /contact HTTP/1.1\" 200 512\\n',\n",
              " '198.51.100.23 - - [03/Dec/2024:10:12:56 +0000] \"GET /home HTTP/1.1\" 200 512\\n',\n",
              " '192.168.1.100 - - [03/Dec/2024:10:12:57 +0000] \"POST /login HTTP/1.1\" 401 128 \"Invalid credentials\"\\n',\n",
              " '203.0.113.5 - - [03/Dec/2024:10:12:58 +0000] \"POST /login HTTP/1.1\" 401 128 \"Invalid credentials\"\\n',\n",
              " '10.0.0.2 - - [03/Dec/2024:10:12:59 +0000] \"GET /dashboard HTTP/1.1\" 200 1024\\n',\n",
              " '192.168.1.1 - - [03/Dec/2024:10:13:00 +0000] \"GET /about HTTP/1.1\" 200 256\\n',\n",
              " '198.51.100.23 - - [03/Dec/2024:10:13:01 +0000] \"POST /register HTTP/1.1\" 200 128\\n',\n",
              " '203.0.113.5 - - [03/Dec/2024:10:13:02 +0000] \"POST /login HTTP/1.1\" 401 128 \"Invalid credentials\"\\n',\n",
              " '192.168.1.100 - - [03/Dec/2024:10:13:03 +0000] \"POST /login HTTP/1.1\" 401 128 \"Invalid credentials\"\\n',\n",
              " '10.0.0.2 - - [03/Dec/2024:10:13:04 +0000] \"GET /profile HTTP/1.1\" 200 768\\n',\n",
              " '198.51.100.23 - - [03/Dec/2024:10:13:05 +0000] \"GET /about HTTP/1.1\" 200 256\\n',\n",
              " '192.168.1.1 - - [03/Dec/2024:10:13:06 +0000] \"GET /home HTTP/1.1\" 200 512\\n',\n",
              " '198.51.100.23 - - [03/Dec/2024:10:13:07 +0000] \"POST /feedback HTTP/1.1\" 200 128']"
            ]
          },
          "metadata": {},
          "execution_count": 5
        }
      ]
    },
    {
      "cell_type": "markdown",
      "source": [
        " Display the first 5 lines to check the content"
      ],
      "metadata": {
        "id": "rxV_rtb6ccd_"
      }
    },
    {
      "cell_type": "code",
      "source": [
        "print(\"Preview of log file:\", log_lines[:5])\n",
        "print(\"Total number of lines:\", len(log_lines))"
      ],
      "metadata": {
        "colab": {
          "base_uri": "https://localhost:8080/"
        },
        "id": "lfK2Vd-obJm5",
        "outputId": "2d33a535-ab10-4cf6-e84a-1b4588b66f8f"
      },
      "execution_count": 6,
      "outputs": [
        {
          "output_type": "stream",
          "name": "stdout",
          "text": [
            "Preview of log file: ['192.168.1.1 - - [03/Dec/2024:10:12:34 +0000] \"GET /home HTTP/1.1\" 200 512\\n', '203.0.113.5 - - [03/Dec/2024:10:12:35 +0000] \"POST /login HTTP/1.1\" 401 128 \"Invalid credentials\"\\n', '10.0.0.2 - - [03/Dec/2024:10:12:36 +0000] \"GET /about HTTP/1.1\" 200 256\\n', '192.168.1.1 - - [03/Dec/2024:10:12:37 +0000] \"GET /contact HTTP/1.1\" 200 312\\n', '198.51.100.23 - - [03/Dec/2024:10:12:38 +0000] \"POST /register HTTP/1.1\" 200 128\\n']\n",
            "Total number of lines: 34\n"
          ]
        }
      ]
    },
    {
      "cell_type": "markdown",
      "source": [
        "Threshold for suspicious activity"
      ],
      "metadata": {
        "id": "lzPm8YR3cg_z"
      }
    },
    {
      "cell_type": "code",
      "source": [
        "THRESHOLD = 1"
      ],
      "metadata": {
        "id": "KV0kjpT1bOhm"
      },
      "execution_count": 7,
      "outputs": []
    },
    {
      "cell_type": "markdown",
      "source": [
        "Helper Functions"
      ],
      "metadata": {
        "id": "1g-yiilBclIs"
      }
    },
    {
      "cell_type": "code",
      "source": [
        "def count_requests_per_ip(lines):\n",
        "    \"\"\"Count the number of requests per IP address.\"\"\"\n",
        "    ip_counts = Counter(re.findall(r'\\b(?:\\d{1,3}\\.){3}\\d{1,3}\\b', '\\n'.join(lines)))\n",
        "    return ip_counts.most_common()"
      ],
      "metadata": {
        "id": "pUJ1QFU1bRjT"
      },
      "execution_count": 8,
      "outputs": []
    },
    {
      "cell_type": "code",
      "source": [
        "def most_accessed_endpoint(lines):\n",
        "    \"\"\"Identify the most accessed endpoint.\"\"\"\n",
        "    endpoints = re.findall(r'\\\"[A-Z]+\\s(\\/[^\\s]*)', '\\n'.join(lines))\n",
        "    endpoint_counts = Counter(endpoints)\n",
        "    return endpoint_counts.most_common(1)[0] if endpoint_counts else (\"None\", 0)"
      ],
      "metadata": {
        "id": "26PfGk_ObT-7"
      },
      "execution_count": 9,
      "outputs": []
    },
    {
      "cell_type": "code",
      "source": [
        "def detect_suspicious_activity(lines, threshold):\n",
        "    \"\"\"Detect suspicious activity based on failed login attempts.\"\"\"\n",
        "    failed_logins = Counter()\n",
        "    for line in lines:\n",
        "        if \"401\" in line or \"Invalid credentials\" in line:\n",
        "            ip = re.search(r'\\b(?:\\d{1,3}\\.){3}\\d{1,3}\\b', line)\n",
        "            if ip:\n",
        "                failed_logins[ip.group()] += 1\n",
        "                print(f\"Detected Suspicious Activity: {ip.group()} | Count: {failed_logins[ip.group()]}\")\n",
        "    return [(ip, count) for ip, count in failed_logins.items() if count > threshold]"
      ],
      "metadata": {
        "id": "I3qUjBErbWwX"
      },
      "execution_count": 10,
      "outputs": []
    },
    {
      "cell_type": "markdown",
      "source": [
        "Analysis"
      ],
      "metadata": {
        "id": "K1T2_Ntacnuy"
      }
    },
    {
      "cell_type": "code",
      "source": [
        "requests_per_ip = count_requests_per_ip(log_lines)\n",
        "print(\"Requests per IP:\")\n",
        "for ip, count in requests_per_ip:\n",
        "    print(f\"{ip}: {count}\")"
      ],
      "metadata": {
        "colab": {
          "base_uri": "https://localhost:8080/"
        },
        "id": "Ak5wXAhPbaOi",
        "outputId": "83867e52-ce3e-4519-c241-4aacc368b5dc"
      },
      "execution_count": 11,
      "outputs": [
        {
          "output_type": "stream",
          "name": "stdout",
          "text": [
            "Requests per IP:\n",
            "203.0.113.5: 8\n",
            "198.51.100.23: 8\n",
            "192.168.1.1: 7\n",
            "10.0.0.2: 6\n",
            "192.168.1.100: 5\n"
          ]
        }
      ]
    },
    {
      "cell_type": "markdown",
      "source": [
        "Most accessed endpoint"
      ],
      "metadata": {
        "id": "n6vUUOQZcs7_"
      }
    },
    {
      "cell_type": "code",
      "source": [
        "most_accessed, access_count = most_accessed_endpoint(log_lines)\n",
        "print(\"\\nMost Accessed Endpoint:\")\n",
        "print(f\"{most_accessed} accessed {access_count} times\")\n"
      ],
      "metadata": {
        "colab": {
          "base_uri": "https://localhost:8080/"
        },
        "id": "N_AJOUNRbczp",
        "outputId": "24d13418-bc72-423b-d3aa-62704ddc8929"
      },
      "execution_count": 12,
      "outputs": [
        {
          "output_type": "stream",
          "name": "stdout",
          "text": [
            "\n",
            "Most Accessed Endpoint:\n",
            "/login accessed 13 times\n"
          ]
        }
      ]
    },
    {
      "cell_type": "markdown",
      "source": [
        "# 3. Suspicious activity"
      ],
      "metadata": {
        "id": "s0XDZE6ecyBV"
      }
    },
    {
      "cell_type": "code",
      "source": [
        "suspicious_activity = detect_suspicious_activity(log_lines, THRESHOLD)\n",
        "print(\"\\nSuspicious Activity:\")\n",
        "for ip, count in suspicious_activity:\n",
        "    print(f\"{ip}: {count} failed login attempts\")"
      ],
      "metadata": {
        "colab": {
          "base_uri": "https://localhost:8080/"
        },
        "id": "WZGg61x4bfk0",
        "outputId": "591d3414-983f-4b20-ecb4-6786b77f8e86"
      },
      "execution_count": 13,
      "outputs": [
        {
          "output_type": "stream",
          "name": "stdout",
          "text": [
            "Detected Suspicious Activity: 203.0.113.5 | Count: 1\n",
            "Detected Suspicious Activity: 203.0.113.5 | Count: 2\n",
            "Detected Suspicious Activity: 192.168.1.100 | Count: 1\n",
            "Detected Suspicious Activity: 203.0.113.5 | Count: 3\n",
            "Detected Suspicious Activity: 203.0.113.5 | Count: 4\n",
            "Detected Suspicious Activity: 192.168.1.100 | Count: 2\n",
            "Detected Suspicious Activity: 203.0.113.5 | Count: 5\n",
            "Detected Suspicious Activity: 203.0.113.5 | Count: 6\n",
            "Detected Suspicious Activity: 192.168.1.100 | Count: 3\n",
            "Detected Suspicious Activity: 192.168.1.100 | Count: 4\n",
            "Detected Suspicious Activity: 203.0.113.5 | Count: 7\n",
            "Detected Suspicious Activity: 203.0.113.5 | Count: 8\n",
            "Detected Suspicious Activity: 192.168.1.100 | Count: 5\n",
            "\n",
            "Suspicious Activity:\n",
            "203.0.113.5: 8 failed login attempts\n",
            "192.168.1.100: 5 failed login attempts\n"
          ]
        }
      ]
    },
    {
      "cell_type": "markdown",
      "source": [
        " Save Results to CSV"
      ],
      "metadata": {
        "id": "Nf915x2Gc1VT"
      }
    },
    {
      "cell_type": "code",
      "source": [
        "csv_filename = \"log_analysis_results.csv\"\n",
        "with open(csv_filename, 'w', newline='') as csvfile:\n",
        "    csv_writer = csv.writer(csvfile)\n",
        "\n",
        "\n",
        "    csv_writer.writerow([\"IP Address\", \"Request Count\"])\n",
        "    csv_writer.writerows(requests_per_ip)\n",
        "\n",
        "\n",
        "    csv_writer.writerow([\"Endpoint\", \"Access Count\"])\n",
        "    csv_writer.writerow([most_accessed, access_count])\n",
        "\n",
        "\n",
        "    if suspicious_activity:\n",
        "        csv_writer.writerow([\"IP Address\", \"Failed Login Count\"])\n",
        "        csv_writer.writerows(suspicious_activity)\n",
        "    else:\n",
        "        print(\"No suspicious activity detected.\")\n",
        "\n",
        "print(f\"\\nResults saved to {csv_filename}\")"
      ],
      "metadata": {
        "colab": {
          "base_uri": "https://localhost:8080/"
        },
        "id": "WKODvw6xblbz",
        "outputId": "eb4eb371-96d1-4b0b-f428-8f5492cb0a5b"
      },
      "execution_count": 16,
      "outputs": [
        {
          "output_type": "stream",
          "name": "stdout",
          "text": [
            "\n",
            "Results saved to log_analysis_results.csv\n"
          ]
        }
      ]
    }
  ]
}